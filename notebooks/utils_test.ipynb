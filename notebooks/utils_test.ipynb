{
 "cells": [
  {
   "cell_type": "code",
   "execution_count": 1,
   "metadata": {},
   "outputs": [],
   "source": [
    "from mgd import utils"
   ]
  },
  {
   "cell_type": "code",
   "execution_count": 2,
   "metadata": {},
   "outputs": [
    {
     "name": "stdout",
     "output_type": "stream",
     "text": [
      "Downloading raw\n",
      "Finished raw\n"
     ]
    }
   ],
   "source": [
    "target_dir = '../gtzan/processed/'\n",
    "scenarios = ['raw']\n",
    "\n",
    "for s in scenarios:\n",
    "    print(f'Downloading {s}')\n",
    "    utils.download_dataset(scenario=s, target_directory=target_dir)\n",
    "    utils.download_experiments(scenario=s, target_directory=target_dir)\n",
    "    print(f'Finished {s}')\n"
   ]
  }
 ],
 "metadata": {
  "kernelspec": {
   "display_name": "Python 3.10.7 ('venv': venv)",
   "language": "python",
   "name": "python3"
  },
  "language_info": {
   "codemirror_mode": {
    "name": "ipython",
    "version": 3
   },
   "file_extension": ".py",
   "mimetype": "text/x-python",
   "name": "python",
   "nbconvert_exporter": "python",
   "pygments_lexer": "ipython3",
   "version": "3.10.7"
  },
  "orig_nbformat": 4,
  "vscode": {
   "interpreter": {
    "hash": "d426eba1f41c72b438522280d7da5a1f1f5189849f3d0ec5377a814338d7455a"
   }
  }
 },
 "nbformat": 4,
 "nbformat_minor": 2
}
