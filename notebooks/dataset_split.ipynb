{
 "cells": [
  {
   "cell_type": "code",
   "execution_count": 19,
   "metadata": {},
   "outputs": [],
   "source": [
    "import pandas as pd\n",
    "import pathlib"
   ]
  },
  {
   "cell_type": "markdown",
   "metadata": {},
   "source": [
    "# Treinamento e Teste\n",
    "\n",
    "- 90% para Treinamento;\n",
    "- 10% para Testes;"
   ]
  },
  {
   "cell_type": "code",
   "execution_count": 20,
   "metadata": {},
   "outputs": [],
   "source": [
    "mgd = 'raw'\n",
    "df = pd.read_csv(f'../gtzan/processed/mgd_{mgd}.csv')\n",
    "group_by_label = df.groupby('label')\n",
    "seed = 0"
   ]
  },
  {
   "cell_type": "code",
   "execution_count": 21,
   "metadata": {},
   "outputs": [],
   "source": [
    "df_test = group_by_label.sample(frac=0.1,\n",
    "                                random_state=seed)\n",
    "df_train = df[~df['song_id'].isin(df_test['song_id'])]"
   ]
  },
  {
   "cell_type": "code",
   "execution_count": 22,
   "metadata": {},
   "outputs": [],
   "source": [
    "# Checagem: músicas de teste não devem estar no treino (e vice-versa)\n",
    "assert df_test['song_id'].isin(df_train['song_id']).any() == False\n",
    "assert df_train['song_id'].isin(df_test['song_id']).any() == False"
   ]
  },
  {
   "cell_type": "code",
   "execution_count": 23,
   "metadata": {},
   "outputs": [],
   "source": [
    "save_path = pathlib.Path('../gtzan/processed/').joinpath(mgd)\n",
    "\n",
    "if not save_path.exists():\n",
    "    save_path.mkdir(parents=True,\n",
    "                    exist_ok=False)\n",
    "\n",
    "df_train.to_csv(save_path.joinpath('train.csv'), index=False)\n",
    "df_test.to_csv(save_path.joinpath('test.csv'), index=False)"
   ]
  },
  {
   "cell_type": "markdown",
   "metadata": {},
   "source": [
    "# Criação dos 10-folds para 5 experimentos"
   ]
  },
  {
   "cell_type": "code",
   "execution_count": 24,
   "metadata": {},
   "outputs": [],
   "source": [
    "# Seed para geração dos folds para cada experimento\n",
    "folds_seeds = [0, 1, 2, 3, 4]\n",
    "assert len(folds_seeds) == 5\n",
    "\n",
    "for i in range(1, 6):\n",
    "    # Shuffle\n",
    "    rand_df = df_train.sample(frac=1,\n",
    "                              random_state=folds_seeds[i-1])\n",
    "\n",
    "    # O dataset de treino deve possuir 900 músicas\n",
    "    assert len(rand_df) == 900\n",
    "\n",
    "    exp_save_path = save_path.joinpath(f'experiment-{i}')\n",
    "\n",
    "    if not exp_save_path.exists():\n",
    "        exp_save_path.mkdir(parents=True)\n",
    "\n",
    "    # 10 folds por experimento,\n",
    "    for j in range(0, 10):\n",
    "        l = j * 90\n",
    "        u = l + 90\n",
    "\n",
    "        df_fold = rand_df.iloc[l:u, :]\n",
    "        fold_save_path = exp_save_path.joinpath(f'fold-{j+1}.csv')\n",
    "\n",
    "        # Cada fold deve possuir 90 músicas\n",
    "        assert len(df_fold) == 90\n",
    "\n",
    "        df_fold.to_csv(fold_save_path, index=False)"
   ]
  }
 ],
 "metadata": {
  "kernelspec": {
   "display_name": "Python 3.10.7 ('venv': venv)",
   "language": "python",
   "name": "python3"
  },
  "language_info": {
   "codemirror_mode": {
    "name": "ipython",
    "version": 3
   },
   "file_extension": ".py",
   "mimetype": "text/x-python",
   "name": "python",
   "nbconvert_exporter": "python",
   "pygments_lexer": "ipython3",
   "version": "3.10.7"
  },
  "orig_nbformat": 4,
  "vscode": {
   "interpreter": {
    "hash": "d426eba1f41c72b438522280d7da5a1f1f5189849f3d0ec5377a814338d7455a"
   }
  }
 },
 "nbformat": 4,
 "nbformat_minor": 2
}
