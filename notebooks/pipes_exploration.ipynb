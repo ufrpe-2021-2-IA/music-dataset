{
 "cells": [
  {
   "cell_type": "code",
   "execution_count": 1,
   "metadata": {},
   "outputs": [],
   "source": [
    "from mgd import pipes\n",
    "import librosa"
   ]
  },
  {
   "cell_type": "code",
   "execution_count": 2,
   "metadata": {},
   "outputs": [],
   "source": [
    "# Carregando um áudio\n",
    "sr = 22050\n",
    "audio_seq = pipes.load_audio('../gtzan/raw/rock/rock.00000.wav', sample_rate=sr)"
   ]
  },
  {
   "cell_type": "code",
   "execution_count": 3,
   "metadata": {},
   "outputs": [
    {
     "name": "stdout",
     "output_type": "stream",
     "text": [
      "Tamanho da waveform: (661794,)\n",
      "Valor máximo: 0.97436523\n",
      "Valor mínimo: -0.960083\n",
      "Valor médio: 8.611403e-05\n"
     ]
    }
   ],
   "source": [
    "print('Tamanho da waveform:', audio_seq.shape)\n",
    "print('Valor máximo:', audio_seq.max())\n",
    "print('Valor mínimo:', audio_seq.min())\n",
    "print('Valor médio:', audio_seq.mean())"
   ]
  },
  {
   "cell_type": "code",
   "execution_count": 7,
   "metadata": {},
   "outputs": [
    {
     "name": "stdout",
     "output_type": "stream",
     "text": [
      "Shapes do MFCCs: (13, 1293)\n",
      "Shapes do SC: (1, 1293)\n",
      "Shapes do SF: (1, 1293)\n",
      "Shapes do SR: (1, 1293)\n",
      "Shapes do Tonnetz: (6, 1293)\n"
     ]
    }
   ],
   "source": [
    "# Extração de características\n",
    "features = pipes.extract_features(audio_seq)\n",
    "\n",
    "print('Shapes do MFCCs:', features.mfcc.shape)\n",
    "print('Shapes do SC:', features.sc.shape)\n",
    "print('Shapes do SF:', features.sf.shape)\n",
    "print('Shapes do SR:', features.sr.shape)\n",
    "print('Shapes do Tonnetz:', features.tonnetz.shape)"
   ]
  }
 ],
 "metadata": {
  "kernelspec": {
   "display_name": "Python 3.10.7 ('venv': venv)",
   "language": "python",
   "name": "python3"
  },
  "language_info": {
   "codemirror_mode": {
    "name": "ipython",
    "version": 3
   },
   "file_extension": ".py",
   "mimetype": "text/x-python",
   "name": "python",
   "nbconvert_exporter": "python",
   "pygments_lexer": "ipython3",
   "version": "3.10.7"
  },
  "orig_nbformat": 4,
  "vscode": {
   "interpreter": {
    "hash": "d426eba1f41c72b438522280d7da5a1f1f5189849f3d0ec5377a814338d7455a"
   }
  }
 },
 "nbformat": 4,
 "nbformat_minor": 2
}
