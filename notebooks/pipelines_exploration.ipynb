{
 "cells": [
  {
   "cell_type": "markdown",
   "metadata": {},
   "source": [
    "# Criação dos Exemplos"
   ]
  },
  {
   "cell_type": "code",
   "execution_count": 1,
   "metadata": {},
   "outputs": [],
   "source": [
    "from mgd import pipelines\n",
    "from itertools import chain\n",
    "import pandas as pd"
   ]
  },
  {
   "cell_type": "code",
   "execution_count": 2,
   "metadata": {},
   "outputs": [],
   "source": [
    "mapper = {\n",
    "    'blues': 0,\n",
    "    'classical': 1,\n",
    "    'country': 2,\n",
    "    'disco': 3,\n",
    "    'hiphop': 4,\n",
    "    'jazz': 5,\n",
    "    'metal': 6,\n",
    "    'pop': 7,\n",
    "    'reggae': 8,\n",
    "    'rock': 9\n",
    "}\n"
   ]
  },
  {
   "cell_type": "code",
   "execution_count": 4,
   "metadata": {},
   "outputs": [
    {
     "name": "stdout",
     "output_type": "stream",
     "text": [
      "Started scenario3\n"
     ]
    }
   ],
   "source": [
    "for s in ['scenario3']:\n",
    "    print(f'Started {s}')\n",
    "\n",
    "    examples = []\n",
    "    directories = list(mapper.keys())\n",
    "\n",
    "    for d in directories:\n",
    "        examples.append(pipelines.extract_examples_from_dir(\n",
    "            f'../gtzan/raw/{d}', norm_agg=s))\n",
    "\n",
    "    examples = list(chain.from_iterable(examples))\n",
    "    data = {\n",
    "        'song_id': [],\n",
    "        'label': [],\n",
    "        'spectral_centroid': [],\n",
    "        'spectral_flatness': [],\n",
    "        'spectral_roll_of': []\n",
    "    }\n",
    "    mfcc_dict = {f'mfcc_{i}': [] for i in range(1, 13)}\n",
    "    tonnetz_dict = {f'tonnetz_{i}': [] for i in range(1, 7)}\n",
    "    data = data | mfcc_dict | tonnetz_dict\n",
    "\n",
    "    for e in examples:\n",
    "        data['song_id'].append(e.song_id)\n",
    "        data['label'].append(mapper[e.label])\n",
    "        data['spectral_centroid'].append(e.features.sc.item(0))\n",
    "        data['spectral_flatness'].append(e.features.sf.item(0))\n",
    "        data['spectral_roll_of'].append(e.features.sr.item(0))\n",
    "\n",
    "        for i in range(1, 13):\n",
    "            mffc_str = f'mfcc_{i}'\n",
    "            data[mffc_str].append(e.features.mfcc.item(i))\n",
    "\n",
    "        for i in range(1, 7):\n",
    "            tonnetz_str = f'tonnetz_{i}'\n",
    "            data[tonnetz_str].append(e.features.tonnetz.item(i-1))\n",
    "\n",
    "    print(f'Finished {s}')\n",
    "    examples_df = pd.DataFrame(data)\n",
    "    examples_df.to_csv(f'../gtzan/processed/mgd_{s}.csv', index=False)\n"
   ]
  }
 ],
 "metadata": {
  "kernelspec": {
   "display_name": "Python 3.10.7 ('venv': venv)",
   "language": "python",
   "name": "python3"
  },
  "language_info": {
   "codemirror_mode": {
    "name": "ipython",
    "version": 3
   },
   "file_extension": ".py",
   "mimetype": "text/x-python",
   "name": "python",
   "nbconvert_exporter": "python",
   "pygments_lexer": "ipython3",
   "version": "3.10.7"
  },
  "orig_nbformat": 4,
  "vscode": {
   "interpreter": {
    "hash": "d426eba1f41c72b438522280d7da5a1f1f5189849f3d0ec5377a814338d7455a"
   }
  }
 },
 "nbformat": 4,
 "nbformat_minor": 2
}
