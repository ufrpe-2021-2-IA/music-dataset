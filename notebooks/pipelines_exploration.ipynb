{
 "cells": [
  {
   "cell_type": "markdown",
   "metadata": {},
   "source": [
    "# Criação dos Exemplos"
   ]
  },
  {
   "cell_type": "code",
   "execution_count": 6,
   "metadata": {},
   "outputs": [],
   "source": [
    "from mgd import pipelines\n",
    "from mgd import filters\n",
    "from itertools import chain\n",
    "import pandas as pd"
   ]
  },
  {
   "cell_type": "code",
   "execution_count": 2,
   "metadata": {},
   "outputs": [],
   "source": [
    "mapper = {\n",
    "    'blues': 0,\n",
    "    'classical': 1,\n",
    "    'country': 2,\n",
    "    'disco': 3,\n",
    "    'hiphop': 4,\n",
    "    'jazz': 5,\n",
    "    'metal': 6,\n",
    "    'pop': 7,\n",
    "    'reggae': 8,\n",
    "    'rock': 9\n",
    "}\n"
   ]
  },
  {
   "cell_type": "code",
   "execution_count": 3,
   "metadata": {},
   "outputs": [],
   "source": [
    "examples = []\n",
    "directories = list(mapper.keys())\n",
    "\n",
    "for d in directories:\n",
    "    examples.append(pipelines.extract_examples_from_dir(f'../gtzan/raw/{d}'))\n",
    "\n",
    "examples = list(chain.from_iterable(examples))"
   ]
  },
  {
   "cell_type": "code",
   "execution_count": 12,
   "metadata": {},
   "outputs": [],
   "source": [
    "ss_fields = filters.SummaryStatistics._fields\n",
    "\n",
    "data = {\n",
    "    'song_id': [],\n",
    "    'label': []\n",
    "}\n",
    "\n",
    "sc_dict = {f'spectral_centroid_{s}': [] for s in ss_fields}\n",
    "sf_dict = {f'spectral_flatness_{s}': [] for s in ss_fields}\n",
    "sr_dict = {f'spectral_roll_of_{s}': [] for s in ss_fields}\n",
    "mfcc_dict = {f'mfcc_{i}_{s}': [] for i in range(1, 13) for s in ss_fields}\n",
    "tonnetz_dict = {f'tonnetz_{i}_{s}': [] for i in range(1, 7) for s in ss_fields}\n",
    "\n",
    "data = data | sc_dict | sf_dict | sr_dict | mfcc_dict | tonnetz_dict\n"
   ]
  },
  {
   "cell_type": "code",
   "execution_count": 13,
   "metadata": {},
   "outputs": [],
   "source": [
    "for e in examples:\n",
    "    data['song_id'].append(e.song_id)\n",
    "    data['label'].append(mapper[e.label])\n",
    "\n",
    "    for ss in ss_fields:\n",
    "        data[f'spectral_centroid_{ss}'].append(\n",
    "            getattr(e.features.sc, ss).item(0))\n",
    "        data[f'spectral_flatness_{ss}'].append(\n",
    "            getattr(e.features.sf, ss).item(0))\n",
    "        data[f'spectral_roll_of_{ss}'].append(\n",
    "            getattr(e.features.sr, ss).item(0))\n",
    "\n",
    "        for i in range(1, 13):\n",
    "            mffc_str = f'mfcc_{i}_{ss}'\n",
    "            data[mffc_str].append(getattr(e.features.mfcc, ss).item(i))\n",
    "\n",
    "        for i in range(1, 7):\n",
    "            tonnetz_str = f'tonnetz_{i}_{ss}'\n",
    "            data[tonnetz_str].append(getattr(e.features.tonnetz, ss).item(i-1))\n"
   ]
  },
  {
   "cell_type": "code",
   "execution_count": 15,
   "metadata": {},
   "outputs": [],
   "source": [
    "examples_df = pd.DataFrame(data)\n",
    "examples_df.to_csv(f'../gtzan/processed/mgd_raw.csv', index=False)"
   ]
  }
 ],
 "metadata": {
  "kernelspec": {
   "display_name": "Python 3.10.7 ('venv': venv)",
   "language": "python",
   "name": "python3"
  },
  "language_info": {
   "codemirror_mode": {
    "name": "ipython",
    "version": 3
   },
   "file_extension": ".py",
   "mimetype": "text/x-python",
   "name": "python",
   "nbconvert_exporter": "python",
   "pygments_lexer": "ipython3",
   "version": "3.10.7"
  },
  "orig_nbformat": 4,
  "vscode": {
   "interpreter": {
    "hash": "d426eba1f41c72b438522280d7da5a1f1f5189849f3d0ec5377a814338d7455a"
   }
  }
 },
 "nbformat": 4,
 "nbformat_minor": 2
}
