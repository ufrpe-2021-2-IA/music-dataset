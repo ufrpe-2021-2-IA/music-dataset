{
 "cells": [
  {
   "cell_type": "markdown",
   "metadata": {},
   "source": [
    "# Criação dos Exemplos"
   ]
  },
  {
   "cell_type": "code",
   "execution_count": null,
   "metadata": {},
   "outputs": [],
   "source": [
    "from mgd import pipelines\n",
    "from mgd import  genre"
   ]
  },
  {
   "cell_type": "code",
   "execution_count": null,
   "metadata": {},
   "outputs": [],
   "source": [
    "rock_examples = pipelines.extract_examples_from_dir('/home/moesiof/UFRPE/2021/2/IA/music-dataset/gtzan/raw/rock',\n",
    "                                                    genre.Genre.ROCK,\n",
    "                                                    'GTZAN')"
   ]
  },
  {
   "cell_type": "code",
   "execution_count": null,
   "metadata": {},
   "outputs": [],
   "source": [
    "classical_examples = pipelines.extract_examples_from_dir('/home/moesiof/UFRPE/2021/2/IA/music-dataset/gtzan/raw/classical',\n",
    "                                                         genre.Genre.CLASSIC,\n",
    "                                                         'GTZAN')"
   ]
  },
  {
   "cell_type": "code",
   "execution_count": null,
   "metadata": {},
   "outputs": [],
   "source": [
    "pop_examples = pipelines.extract_examples_from_dir('/home/moesiof/UFRPE/2021/2/IA/music-dataset/gtzan/raw/pop',\n",
    "                                                   genre.Genre.POP,\n",
    "                                                   'GTZAN')"
   ]
  },
  {
   "cell_type": "code",
   "execution_count": null,
   "metadata": {},
   "outputs": [],
   "source": [
    "hip_hop_examples = pipelines.extract_examples_from_dir('/home/moesiof/UFRPE/2021/2/IA/music-dataset/gtzan/raw/hiphop',\n",
    "                                                   genre.Genre.HIP_HOP,\n",
    "                                                   'GTZAN')"
   ]
  },
  {
   "cell_type": "code",
   "execution_count": null,
   "metadata": {},
   "outputs": [],
   "source": [
    "print(len(rock_examples))\n",
    "print(len(classical_examples))\n",
    "print(len(pop_examples))\n",
    "print(len(hip_hop_examples))"
   ]
  },
  {
   "cell_type": "markdown",
   "metadata": {},
   "source": [
    "# Criação do DataFrame"
   ]
  },
  {
   "cell_type": "code",
   "execution_count": null,
   "metadata": {},
   "outputs": [],
   "source": [
    "import pandas as pd\n",
    "from itertools import chain"
   ]
  },
  {
   "cell_type": "code",
   "execution_count": null,
   "metadata": {},
   "outputs": [],
   "source": [
    "examples = list(chain.from_iterable([rock_examples, classical_examples, pop_examples, hip_hop_examples]))"
   ]
  },
  {
   "cell_type": "code",
   "execution_count": null,
   "metadata": {},
   "outputs": [],
   "source": [
    "data = {\n",
    "    'song_id': [],\n",
    "    'song_src': [],\n",
    "    'label': [],\n",
    "    'spectral_centroid': [],\n",
    "    'spectral_flatness': [],\n",
    "    'spectral_roll_of': []\n",
    "}\n",
    "\n",
    "mfcc_dict = {f'mfcc_{i}': [] for i in range(1, 13)}\n",
    "tonnetz_dict = {f'tonnetz_{i}': [] for i in range(1, 7)}\n",
    "data = data | mfcc_dict | tonnetz_dict"
   ]
  },
  {
   "cell_type": "code",
   "execution_count": null,
   "metadata": {},
   "outputs": [],
   "source": [
    "for e in examples:\n",
    "    data['song_id'].append(e.song_id)\n",
    "    data['song_src'].append(e.song_src)\n",
    "    data['label'].append(e.label.value[0])\n",
    "    data['spectral_centroid'].append(e.features.sc.item(0))\n",
    "    data['spectral_flatness'].append(e.features.sf.item(0))\n",
    "    data['spectral_roll_of'].append(e.features.sr.item(0))\n",
    "\n",
    "    for i in range(1, 13):\n",
    "        mffc_str = f'mfcc_{i}'\n",
    "        data[mffc_str].append(e.features.mfcc.item(i))\n",
    "\n",
    "    for i in range(1, 7):\n",
    "        tonnetz_str = f'tonnetz_{i}'\n",
    "        data[tonnetz_str].append(e.features.tonnetz.item(i-1))\n"
   ]
  },
  {
   "cell_type": "code",
   "execution_count": null,
   "metadata": {},
   "outputs": [],
   "source": [
    "examples_df = pd.DataFrame(data)"
   ]
  },
  {
   "cell_type": "code",
   "execution_count": null,
   "metadata": {},
   "outputs": [],
   "source": [
    "examples_df.to_csv('/home/moesiof/UFRPE/2021/2/IA/music-dataset/gtzan/processed/mgd_gtzan.csv')"
   ]
  },
  {
   "cell_type": "code",
   "execution_count": null,
   "metadata": {},
   "outputs": [],
   "source": [
    "from pandas_profiling import ProfileReport\n",
    "profile = ProfileReport(examples_df)"
   ]
  },
  {
   "cell_type": "code",
   "execution_count": null,
   "metadata": {},
   "outputs": [],
   "source": [
    "profile"
   ]
  }
 ],
 "metadata": {
  "kernelspec": {
   "display_name": "Python 3.10.7 ('venv': venv)",
   "language": "python",
   "name": "python3"
  },
  "language_info": {
   "codemirror_mode": {
    "name": "ipython",
    "version": 3
   },
   "file_extension": ".py",
   "mimetype": "text/x-python",
   "name": "python",
   "nbconvert_exporter": "python",
   "pygments_lexer": "ipython3",
   "version": "3.10.7"
  },
  "orig_nbformat": 4,
  "vscode": {
   "interpreter": {
    "hash": "d426eba1f41c72b438522280d7da5a1f1f5189849f3d0ec5377a814338d7455a"
   }
  }
 },
 "nbformat": 4,
 "nbformat_minor": 2
}
